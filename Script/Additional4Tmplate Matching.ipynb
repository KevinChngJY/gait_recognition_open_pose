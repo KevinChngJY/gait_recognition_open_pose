{
 "cells": [
  {
   "cell_type": "markdown",
   "metadata": {},
   "source": [
    "# Template Matching"
   ]
  },
  {
   "cell_type": "markdown",
   "metadata": {},
   "source": [
    "## 1.0 Import Packages"
   ]
  },
  {
   "cell_type": "code",
   "execution_count": 47,
   "metadata": {},
   "outputs": [],
   "source": [
    "import pickle\n",
    "import numpy as np\n",
    "import pandas as pd\n",
    "import matplotlib.pyplot as plt\n",
    "import seaborn as sns\n",
    "import statistics\n",
    "\n",
    "import warnings\n",
    "warnings.filterwarnings('ignore')\n",
    "\n",
    "pd.set_option('display.max_rows', None)\n",
    "pd.set_option('display.max_columns', None)"
   ]
  },
  {
   "cell_type": "markdown",
   "metadata": {},
   "source": [
    "## 2.0 Read Pickle File"
   ]
  },
  {
   "cell_type": "code",
   "execution_count": 48,
   "metadata": {},
   "outputs": [],
   "source": [
    "def readpickefile(person):\n",
    "    with open(person+'.pkl', 'rb') as f:\n",
    "        result1,dfs1 = pickle.load(f)\n",
    "    return result1,dfs1\n",
    "\n",
    "result1,dfs1 = readpickefile('person1')\n",
    "result2,dfs2 = readpickefile('person2')\n",
    "result3,dfs3 = readpickefile('person3')\n",
    "result4,dfs4 = readpickefile('person4')\n",
    "result5,dfs5 = readpickefile('person5')"
   ]
  },
  {
   "cell_type": "markdown",
   "metadata": {},
   "source": [
    "## 3.0 Segment out distance > 10m or < 3m"
   ]
  },
  {
   "cell_type": "code",
   "execution_count": 49,
   "metadata": {},
   "outputs": [],
   "source": [
    "def remove_10_3(rotate,angle):\n",
    "    rot1_3000_10000 = rotate[angle[\"DST\"]>3000]\n",
    "    rot1_3000_10000 = rot1_3000_10000[angle[\"DST\"]<10000]\n",
    "    ang1_3000_10000 = angle[angle[\"DST\"]>3000]\n",
    "    ang1_3000_10000 = ang1_3000_10000[angle[\"DST\"]<10000]\n",
    "    return rot1_3000_10000, ang1_3000_10000"
   ]
  },
  {
   "cell_type": "markdown",
   "metadata": {},
   "source": [
    "## 4.0 Split Data to 80:20"
   ]
  },
  {
   "cell_type": "code",
   "execution_count": 50,
   "metadata": {},
   "outputs": [],
   "source": [
    "def splitdata80_20(dfs1):\n",
    "    dfs_list1=list(dfs1.keys())\n",
    "    dfs_rot_train=[]\n",
    "    dfs_rot_test=[]\n",
    "    for ind, rsbag1 in enumerate(dfs_list1):\n",
    "        rot1, ang1 = dfs1[rsbag1][0]\n",
    "        rot1, ang1 = remove_10_3(rot1, ang1)\n",
    "        if ind<8:\n",
    "            dfs_rot_train.append(rot1)\n",
    "        else:\n",
    "            dfs_rot_test.append(rot1)    \n",
    "    return dfs_rot_train, dfs_rot_test\n",
    "\n",
    "dfs_rot_train1, dfs_rot_test1=splitdata80_20(dfs1)\n",
    "dfs_rot_train2, dfs_rot_test2=splitdata80_20(dfs2)\n",
    "dfs_rot_train3, dfs_rot_test3=splitdata80_20(dfs3)\n",
    "dfs_rot_train4, dfs_rot_test4=splitdata80_20(dfs4)\n",
    "dfs_rot_train5, dfs_rot_test5=splitdata80_20(dfs5)"
   ]
  },
  {
   "cell_type": "markdown",
   "metadata": {},
   "source": [
    "## 5.0 Test Accuracy with Test Dataset using template matching correlation"
   ]
  },
  {
   "cell_type": "code",
   "execution_count": 51,
   "metadata": {},
   "outputs": [],
   "source": [
    "def correlation_features_rotate_compare_one_other(data,dfs_rot_train):\n",
    "    correlation=[]\n",
    "    for rot1 in dfs_rot_train:\n",
    "        #Compute Own first\n",
    "        column_name=list(rot1.columns)\n",
    "        for main_c,sub_c in column_name:\n",
    "            test1=data[main_c][sub_c]\n",
    "            #Q1 = test1.quantile(0.25)\n",
    "            #Q3 = test1.quantile(0.75)\n",
    "            #IQR = Q3 - Q1\n",
    "            #test1=test1[test1 > (Q1 - 1.5 * IQR)]\n",
    "            #test1=test1[test1 < (Q3 + 1.5 * IQR)]\n",
    "            a=pd.Series(test1)\n",
    "            new1=a.interpolate(method='polynomial', order=2)\n",
    "            new12= list(new1)\n",
    "            \n",
    "            test2=rot1[main_c][sub_c]\n",
    "            #Q1 = test2.quantile(0.25)\n",
    "            #Q3 = test2.quantile(0.75)\n",
    "            #IQR = Q3 - Q1\n",
    "            #test2=test2[test2 > (Q1 - 1.5 * IQR)]\n",
    "            #test2=test2[test2 < (Q3 + 1.5 * IQR)]\n",
    "            a=pd.Series(test2)\n",
    "            new2=a.interpolate(method='polynomial', order=2)\n",
    "            new22= list(new2)\n",
    "            new122=pd.Series(new12)\n",
    "            new222=pd.Series(new22)\n",
    "            result=new122.corr(new222)\n",
    "            correlation.append(abs(result))\n",
    "    result = np.reshape(correlation, (-1,36))\n",
    "    df = pd.DataFrame(result, columns = column_name)\n",
    "    final_correlation=statistics.mean(df.mean(axis = 0, skipna = True))\n",
    "    return final_correlation\n",
    "\n",
    "def calculate_accuracy(dfs_rot_test1,truth):\n",
    "    correct = 0\n",
    "    for test in dfs_rot_test1:\n",
    "        correlation1 = correlation_features_rotate_compare_one_other(test,dfs_rot_train1)\n",
    "        correlation2 = correlation_features_rotate_compare_one_other(test,dfs_rot_train2)\n",
    "        correlation3 = correlation_features_rotate_compare_one_other(test,dfs_rot_train3)\n",
    "        correlation4 = correlation_features_rotate_compare_one_other(test,dfs_rot_train4)\n",
    "        correlation5 = correlation_features_rotate_compare_one_other(test,dfs_rot_train5)\n",
    "        list_correlation = [correlation1,correlation2,correlation3,correlation4,correlation5]\n",
    "        ans = list_correlation.index(max(list_correlation))\n",
    "        if ans==truth:\n",
    "            correct = correct +1\n",
    "    return correct\n",
    "            \n",
    "correct1=calculate_accuracy(dfs_rot_test1,0)\n",
    "correct2=calculate_accuracy(dfs_rot_test2,1)\n",
    "correct3=calculate_accuracy(dfs_rot_test3,2)\n",
    "correct4=calculate_accuracy(dfs_rot_test4,3)\n",
    "correct5=calculate_accuracy(dfs_rot_test5,4)\n",
    "accuracy = (correct1+correct2+correct3+correct4+correct5)/(len(dfs_rot_test1)+len(dfs_rot_test2)+len(dfs_rot_test3)+len(dfs_rot_test4)+len(dfs_rot_test5))"
   ]
  },
  {
   "cell_type": "code",
   "execution_count": 52,
   "metadata": {},
   "outputs": [
    {
     "name": "stdout",
     "output_type": "stream",
     "text": [
      "0.36363636363636365\n"
     ]
    }
   ],
   "source": [
    "print(accuracy)"
   ]
  },
  {
   "cell_type": "code",
   "execution_count": null,
   "metadata": {},
   "outputs": [],
   "source": []
  }
 ],
 "metadata": {
  "kernelspec": {
   "display_name": "Python 3",
   "language": "python",
   "name": "python3"
  },
  "language_info": {
   "codemirror_mode": {
    "name": "ipython",
    "version": 3
   },
   "file_extension": ".py",
   "mimetype": "text/x-python",
   "name": "python",
   "nbconvert_exporter": "python",
   "pygments_lexer": "ipython3",
   "version": "3.7.9"
  }
 },
 "nbformat": 4,
 "nbformat_minor": 4
}
